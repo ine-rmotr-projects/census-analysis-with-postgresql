{
 "cells": [
  {
   "cell_type": "markdown",
   "metadata": {},
   "source": [
    "![ine-divider](https://user-images.githubusercontent.com/7065401/92672068-398e8080-f2ee-11ea-82d6-ad53f7feb5c0.png)\n",
    "<hr>\n",
    "\n",
    "# PostgreSQL for Python Developers\n",
    "\n",
    "## Census analysis with PostgreSQL\n",
    "\n",
    "In this project, you will work with multiple different PostgreSQL adapters for Python.\n",
    "\n",
    "You will need access to a PostgreSQL installation where you have superuser permissions. If you do not have such access elsewhere, installing to your personal workstation is a good idea.  Alternately, you might wish to use a Docker container for a self-contained installation.  See `https://hub.docker.com/_/postgres` for details on that option.  Unless you have a specific need to work with an existing installation, choosing a PostgreSQL version of 12 or higher is best.\n"
   ]
  },
  {
   "cell_type": "markdown",
   "metadata": {},
   "source": [
    "![orange-divider](https://user-images.githubusercontent.com/7065401/92672455-187a5f80-f2ef-11ea-890c-40be9474f7b7.png)\n",
    "## Part 1\n",
    "\n",
    "**Create the sample table**\n",
    "\n",
    "This task is not particularly dependent upon the choice of adapter.  You simply want to load in the same sample data that was discussed in the lesson, located in this repository as `census-zipcodes-2018.tsv.bz2`.  It is compressed here to make the repository smaller.  Consult the Python `bz2` module or use command line tools to expand it.\n",
    "\n",
    "The next part will work with this table.\n",
    "\n",
    "In this part, you should also install all of the adapters discussed in this lesson."
   ]
  },
  {
   "cell_type": "markdown",
   "metadata": {},
   "source": [
    "**Solution**\n",
    "\n",
    "The solution is exactly the same as provided in the lesson."
   ]
  },
  {
   "cell_type": "code",
   "execution_count": 1,
   "metadata": {},
   "outputs": [],
   "source": [
    "import psycopg2\n",
    "user, pwd, db = 'ine_student', 'ine-password', 'ine'\n",
    "host, port = 'localhost', '5432'\n",
    "conn = psycopg2.connect(database=db, host=host, user=user, password=pwd, port=port)\n",
    "cur = conn.cursor()"
   ]
  },
  {
   "cell_type": "code",
   "execution_count": 2,
   "metadata": {},
   "outputs": [],
   "source": [
    "cur.execute('DROP TABLE IF EXISTS census_zipcode_geography;')\n",
    "\n",
    "sql_geography = \"\"\"\n",
    "CREATE TABLE census_zipcode_geography (\n",
    "  USPS CHAR(5) PRIMARY KEY,  -- by implication, UNIQUE NOT NULL\n",
    "  ALAND BIGINT,              -- some zips are larger than 2e9 m^2\n",
    "  AWATER BIGINT,\n",
    "  ALAND_SQMI NUMERIC(8, 3),  -- largest zips need 5 to left of decimal\n",
    "  AWATER_SQMI NUMERIC(8, 3), -- sizes with 3 digits of precision\n",
    "  INTPTLAT REAL,             -- keep fields from key, although duplicative\n",
    "  INTPTLONG REAL,\n",
    "  location POINT             -- use geometric type for lat/lon\n",
    ");\n",
    "\"\"\"\n",
    "cur.execute(sql_geography)"
   ]
  },
  {
   "cell_type": "code",
   "execution_count": 3,
   "metadata": {},
   "outputs": [],
   "source": [
    "fields = ('USPS', 'ALAND', 'AWATER', 'ALAND_SQMI', \n",
    "          'AWATER_SQMI', 'INTPTLAT', 'INTPTLONG', 'location')\n",
    "\n",
    "sql_insert_geo = f\"\"\"\n",
    "INSERT into census_zipcode_geography ({','.join(fields)})\n",
    "VALUES (%s, %s, %s, %s, %s, %s, %s, %s);\n",
    "\"\"\"\n",
    "with open('data/census-zipcodes-2018.tsv') as fh:\n",
    "    next(fh)   # discard header line\n",
    "    for line in fh:\n",
    "        row = line.strip().split('\\t')\n",
    "        row.append(f\"({row[-2]}, {row[-1]})\")\n",
    "        cur.execute(sql_insert_geo, tuple(row))\n",
    "\n",
    "conn.commit()"
   ]
  },
  {
   "cell_type": "markdown",
   "metadata": {},
   "source": [
    "![orange-divider](https://user-images.githubusercontent.com/7065401/92672455-187a5f80-f2ef-11ea-890c-40be9474f7b7.png)\n",
    "\n",
    "## Part 2\n",
    "\n",
    "**Timing different adapters**\n",
    "\n",
    "For the small data we are working with, all adapters will be very fast.  The speed advantages of asynchronous adapters will not be shown strongly until you work with much larger data sets than this. And especially once you have many queries \"in flight* at the same time. However, your task is to time differences in performance of a relatively expensive query that utilizes nested subqueries.  A similar query is discussed passingly in the next lesson.\n",
    "\n",
    "Are you able to measure better performance using `asyncpg` versus `pg8000` for this query? You may with to write and time scripts at the command line, since within Jupyter, you need to use the trick discussed to nest an asyncio loop within Jupyter's own loop.  More adventurous students should try much larger data sets and more complex queries that they have access to.  Moreover, you may wish to try `uvloop` rather than `asyncio` to speed up slow interfaces even more."
   ]
  },
  {
   "cell_type": "code",
   "execution_count": 4,
   "metadata": {},
   "outputs": [],
   "source": [
    "sql_nested = \"\"\"\n",
    "SELECT usps  \n",
    "FROM census_zipcode_geography \n",
    "WHERE 10*awater_sqmi > (SELECT avg(aland_sqmi) \n",
    "                     FROM census_zipcode_geography)\n",
    "AND 2*aland_sqmi > (SELECT avg(awater_sqmi)\n",
    "                  FROM census_zipcode_geography)\n",
    "ORDER BY location <-> point '(40.0,-105.3)'\n",
    "\"\"\"\n",
    "\n",
    "# We need this if we stay inside Jupyter\n",
    "import nest_asyncio\n",
    "nest_asyncio.apply()"
   ]
  },
  {
   "cell_type": "markdown",
   "metadata": {},
   "source": [
    "**A possible solution**\n",
    "\n",
    "This solution is provided as an inspiration.  More meaningful results require larger data and more complex queries, but those will depend on you obtaining such datasets, and access to PostgreSQL operating under realistic loads."
   ]
  },
  {
   "cell_type": "code",
   "execution_count": 5,
   "metadata": {},
   "outputs": [],
   "source": [
    "import pg8000\n",
    "import asyncpg\n",
    "import asyncio"
   ]
  },
  {
   "cell_type": "code",
   "execution_count": 6,
   "metadata": {},
   "outputs": [
    {
     "name": "stdout",
     "output_type": "stream",
     "text": [
      "Number of results: 1405\n",
      "CPU times: user 814 µs, sys: 4.84 ms, total: 5.65 ms\n",
      "Wall time: 30.3 ms\n"
     ]
    }
   ],
   "source": [
    "%%time\n",
    "conpg = pg8000.connect(database=db, host=host, user=user, password=pwd, port=port)\n",
    "curpg = conpg.cursor()\n",
    "curpg.execute(sql_nested)\n",
    "results = curpg.fetchall()\n",
    "print(f\"Number of results: {len(results)}\")"
   ]
  },
  {
   "cell_type": "code",
   "execution_count": 7,
   "metadata": {},
   "outputs": [
    {
     "name": "stdout",
     "output_type": "stream",
     "text": [
      "Number of results: 1405\n",
      "CPU times: user 2.81 ms, sys: 925 µs, total: 3.73 ms\n",
      "Wall time: 29.8 ms\n"
     ]
    }
   ],
   "source": [
    "%%time\n",
    "conpsy = psycopg2.connect(database=db, host=host, user=user, password=pwd, port=port)\n",
    "curpsy = conpsy.cursor()\n",
    "curpsy.execute(sql_nested)\n",
    "results = curpsy.fetchall()\n",
    "print(f\"Number of results: {len(results)}\")"
   ]
  },
  {
   "cell_type": "code",
   "execution_count": 8,
   "metadata": {},
   "outputs": [],
   "source": [
    "async def query():\n",
    "    results = []\n",
    "    conn = await asyncpg.connect(database=db, host=host, user=user, password=pwd, port=port)\n",
    "    for row in await conn.fetch(sql_nested):\n",
    "        results.append(row)\n",
    "    await conn.close()\n",
    "    return results"
   ]
  },
  {
   "cell_type": "code",
   "execution_count": 10,
   "metadata": {},
   "outputs": [
    {
     "name": "stdout",
     "output_type": "stream",
     "text": [
      "CPU times: user 3 µs, sys: 0 ns, total: 3 µs\n",
      "Wall time: 6.44 µs\n",
      "Number of results: 1405\n"
     ]
    }
   ],
   "source": [
    "%time   \n",
    "loop = asyncio.get_event_loop()\n",
    "results = loop.run_until_complete(asyncio.gather(query()))\n",
    "# This nests the results an extra time because of gather()\n",
    "print(f\"Number of results: {len(results[0])}\")                              "
   ]
  },
  {
   "cell_type": "markdown",
   "metadata": {},
   "source": [
    "![orange-divider](https://user-images.githubusercontent.com/7065401/92672455-187a5f80-f2ef-11ea-890c-40be9474f7b7.png)"
   ]
  }
 ],
 "metadata": {
  "kernelspec": {
   "display_name": "Python 3",
   "language": "python",
   "name": "python3"
  },
  "language_info": {
   "codemirror_mode": {
    "name": "ipython",
    "version": 3
   },
   "file_extension": ".py",
   "mimetype": "text/x-python",
   "name": "python",
   "nbconvert_exporter": "python",
   "pygments_lexer": "ipython3",
   "version": "3.8.6"
  }
 },
 "nbformat": 4,
 "nbformat_minor": 4
}
